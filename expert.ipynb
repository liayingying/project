class Circle():
    def __init__(self,r):
        self.radius=r
    def getArea(self):
        return self.radius**2*3.14
    def getCircumference (self):
        return 2*self.radius*3.14
circle = Circle(10)
circle.getArea()

