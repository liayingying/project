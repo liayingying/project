class Rectangle():
    def __init__(self,a,b):
        self.a=a
        self.b=b
    def getArea(self):
        return self.a*self.b
    def getPerimeter(self):
        return 2*self.a+self.b*2
rectangle= Rectangle(3,4)
rectangle.getPerimeter()
rectangle.getArea()       
        
